{
 "cells": [
  {
   "cell_type": "markdown",
   "metadata": {},
   "source": [
    "# João Palmeiro\n",
    "## Research Intern\n",
    "\n",
    "Behance\n",
    "Cenas\n",
    "\n",
    "`HOT`"
   ]
  },
  {
   "cell_type": "code",
   "execution_count": null,
   "metadata": {
    "tags": [
     "show_input",
     "show_output"
    ]
   },
   "outputs": [],
   "source": [
    "1+1 # comment"
   ]
  },
  {
   "cell_type": "code",
   "execution_count": null,
   "metadata": {
    "tags": [
     "hide_input",
     "hide_output"
    ]
   },
   "outputs": [],
   "source": [
    "%%writefile CV.tplx\n",
    "\n",
    "((* extends 'article.tplx' *))\n",
    "\n",
    "((* block packages *))\n",
    "((( super() )))\n",
    "\\usepackage[sfdefault, light]{roboto}\n",
    "((* endblock packages *))\n",
    "\n",
    "((* block maketitle *))((* endblock maketitle *))\n",
    "\n",
    "((*- block margins -*))\n",
    "    \\geometry{verbose, tmargin=.7in, bmargin=.7in, lmargin=.7in, rmargin=.7in}\n",
    "((*- endblock margins -*))\n",
    "\n",
    "((*- block style_colors *))\n",
    "    \\definecolor{incolor}{HTML}{303F9F}\n",
    "    \\definecolor{outcolor}{HTML}{D84315}\n",
    "    \\definecolor{cellborder}{HTML}{CFCFCF}\n",
    "    \\definecolor{cellbackground}{HTML}{FFFFFF}\n",
    "((*- endblock style_colors *))\n",
    "\n",
    "((* block input_group *))\n",
    "((* if 'hide_input' in cell['metadata'].get('tags', []) *))\n",
    "((* elif 'show_input' in cell['metadata'].get('tags', []) *))\n",
    "    ((( super() )))\n",
    "((* endif *))\n",
    "((* endblock input_group *))\n",
    "\n",
    "((* block output_group *))\n",
    "((* if 'hide_output' in cell['metadata'].get('tags', []) *))\n",
    "((* elif 'show_output' in cell['metadata'].get('tags', []) *))\n",
    "    ((( super() )))\n",
    "((* endif *))\n",
    "((* endblock output_group *))\n",
    "\n",
    "((*- if draw_cell is not defined -*)) % Required to allow overriding.\n",
    "((* macro draw_cell(text, cell, prompt, prompt_color, extra_space) -*))\n",
    "((*- if prompt == 'In' -*))\n",
    "((*- set style = \"breakable, size=fbox, boxsep=0mm, boxrule=1pt, pad at break*=1mm, colback=cellbackground, colframe=cellborder\"-*))\n",
    "((*- else -*))\n",
    "((*- set style = \"breakable, size=fbox, boxrule=.5pt, pad at break*=1mm, opacityfill=0\"-*))\n",
    "((*-  endif -*))\n",
    "\n",
    "\\begin{tcolorbox}[((( style )))]\n",
    "(((- draw_prompt(cell, prompt, prompt_color, extra_space) )))\n",
    "\\begin{Verbatim}[commandchars=\\\\\\{\\}]\n",
    "((( text )))\n",
    "\\end{Verbatim}\n",
    "\\end{tcolorbox}\n",
    "((*- endmacro *))\n",
    "((*- endif -*))\n",
    "\n",
    "((*- block style_prompt *))\n",
    "    \\newcommand{\\prompt}[4]{\n",
    "        {\\sffamily\\llap{{\\color{#2}[#3] :\\hspace{3pt}#4}}\\vspace{-\\baselineskip}}\n",
    "    }\n",
    "((* endblock style_prompt *))"
   ]
  },
  {
   "cell_type": "code",
   "execution_count": null,
   "metadata": {
    "tags": [
     "hide_input",
     "hide_output"
    ]
   },
   "outputs": [],
   "source": [
    "!jupyter nbconvert --to pdf 'CV.ipynb' --template='CV.tplx'"
   ]
  }
 ],
 "metadata": {
  "celltoolbar": "Tags",
  "kernelspec": {
   "display_name": "Python 3",
   "language": "python",
   "name": "python3"
  },
  "language_info": {
   "codemirror_mode": {
    "name": "ipython",
    "version": 3
   },
   "file_extension": ".py",
   "mimetype": "text/x-python",
   "name": "python",
   "nbconvert_exporter": "python",
   "pygments_lexer": "ipython3",
   "version": "3.7.4"
  }
 },
 "nbformat": 4,
 "nbformat_minor": 4
}
