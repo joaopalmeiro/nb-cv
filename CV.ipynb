{
 "cells": [
  {
   "cell_type": "markdown",
   "metadata": {},
   "source": [
    "# João Palmeiro\n",
    "## Research Intern\n",
    "\n",
    "Behance\n",
    "Cenas \n",
    "1 2 3\n",
    "\n",
    "`HOT`\n",
    "\n",
    "_Teste_"
   ]
  },
  {
   "cell_type": "code",
   "execution_count": null,
   "metadata": {
    "tags": [
     "show_input",
     "show_output"
    ]
   },
   "outputs": [],
   "source": [
    "1+1 # comment"
   ]
  },
  {
   "cell_type": "code",
   "execution_count": null,
   "metadata": {
    "tags": [
     "show_input",
     "show_output"
    ]
   },
   "outputs": [],
   "source": [
    "import pandas as pd\n",
    "\n",
    "d = {'col1': [1, 2], 'col2': [3, 4]}\n",
    "\n",
    "df = pd.DataFrame(data=d)\n",
    "\n",
    "teste = \"\"\"\n",
    "| weekday   |   temperature |   precipitation |\n",
    "|:----------|--------------:|----------------:|\n",
    "| monday    |            20 |             100 |\n",
    "| thursday  |            30 |             200 |\n",
    "| wednesday |            25 |             150 |\n",
    "\"\"\""
   ]
  },
  {
   "cell_type": "code",
   "execution_count": null,
   "metadata": {
    "tags": [
     "show_input",
     "show_output"
    ]
   },
   "outputs": [],
   "source": [
    "df"
   ]
  },
  {
   "cell_type": "code",
   "execution_count": null,
   "metadata": {
    "tags": [
     "hide_input",
     "hide_output"
    ]
   },
   "outputs": [],
   "source": [
    "%%writefile CV.tplx\n",
    "\n",
    "((* extends 'article.tplx' *))\n",
    "\n",
    "((* block commands *))\n",
    "    \\setcounter{secnumdepth}{0}\n",
    "    ((( super() )))\n",
    "((* endblock commands *))\n",
    "\n",
    "%((* block definitions *))\n",
    "%((( super() )))\n",
    "%((* block repygments *))\n",
    "%    % Source: https://github.com/t-makaro/nb_pdf_template/blob/master/nb_pdf_template/templates/classic.tplx\n",
    "%    \\makeatletter\n",
    "%    \\expandafter\\def\\csname PY@tok@mi\\endcsname{\\def\\PY@tc##1{\\textcolor[HTML]{2f2f2f}{##1}}} % numbers\n",
    "%    \\expandafter\\def\\csname PY@tok@c1\\endcsname{\\let\\PY@it=\\textit\\def\\PY@tc##1{\\textcolor[HTML]{2f2f2f}{##1}}} % comments\n",
    "%    \\expandafter\\def\\csname PY@tok@o\\endcsname{\\def\\PY@tc##1{\\textcolor[HTML]{2f2f2f}{##1}}} % operators\n",
    "%    \\makeatother\n",
    "%((* endblock repygments *))\n",
    "%((* endblock definitions *))\n",
    "    \n",
    "((* block packages *))\n",
    "    \\usepackage[bookmarks=false]{hyperref}\n",
    "    \n",
    "    \\usepackage[light]{roboto-mono}\n",
    "    \\renewcommand*\\familydefault{\\ttdefault}\n",
    "    %\\usepackage[T1]{fontenc}\n",
    "                                                \n",
    "    ((( super() )))\n",
    "                                                \n",
    "    %\\usepackage[sfdefault,light]{roboto}\n",
    "                                                \n",
    "    % Source: https://tex.stackexchange.com/questions/113338/use-sans-serif-in-a-verbatim-environment\n",
    "    \\makeatletter\n",
    "    \\begingroup\n",
    "    \\catcode`\\`=\\active\n",
    "    \\gdef\\FV@fontfamily@sf{%\n",
    "      \\def\\FV@FontScanPrep{\\FV@MakeActive\\`}%\n",
    "      \\def\\FV@FontFamily{\\sffamily\\edef`{{\\string`}}}}\n",
    "    \\endgroup\n",
    "    \\makeatother\n",
    "((* endblock packages *))\n",
    "\n",
    "((* block maketitle *))\n",
    "    \\pagestyle{empty}\n",
    "((* endblock maketitle *))\n",
    "\n",
    "((*- block margins -*))\n",
    "    \\geometry{verbose, tmargin=.7in, bmargin=.7in, lmargin=.7in, rmargin=.7in}\n",
    "((*- endblock margins -*))\n",
    "\n",
    "((*- block style_colors *))\n",
    "    \\definecolor{incolor}{HTML}{0F4392}\n",
    "    \\definecolor{outcolor}{HTML}{DD1717}\n",
    "    \\definecolor{cellborder}{HTML}{CFCFCF}\n",
    "    \\definecolor{cellbackground}{HTML}{FFFFFF}\n",
    "((*- endblock style_colors *))\n",
    "\n",
    "((* block input_group *))\n",
    "    ((* if 'hide_input' in cell['metadata'].get('tags', []) *))\n",
    "    ((* elif 'show_input' in cell['metadata'].get('tags', []) *))\n",
    "        ((( super() )))\n",
    "    ((* endif *))\n",
    "((* endblock input_group *))\n",
    "\n",
    "((* block output_group *))\n",
    "    ((* if 'hide_output' in cell['metadata'].get('tags', []) *))\n",
    "    ((* elif 'show_output' in cell['metadata'].get('tags', []) *))\n",
    "        ((( super() )))\n",
    "    ((* endif *))\n",
    "((* endblock output_group *))\n",
    "                         \n",
    "((*- if draw_cell is not defined -*))\n",
    "((* macro draw_cell(text, cell, prompt, prompt_color, extra_space) -*))\n",
    "((*- if prompt == 'In' -*))\n",
    "((*- set style = \"breakable, size=fbox, boxrule=.5pt, pad at break*=1mm, colback=cellbackground, colframe=cellborder\"-*))\n",
    "((*- else -*))((*- set style = \"breakable, size=fbox, boxrule=.5pt, pad at break*=1mm, opacityfill=0\"-*))((*-  endif -*))\n",
    "\n",
    "\\begin{tcolorbox}[((( style )))]\n",
    "(((- draw_prompt(cell, prompt, prompt_color, extra_space) )))\n",
    "\\begin{Verbatim}[commandchars=\\\\\\{\\}]\n",
    "((( text )))\n",
    "\\end{Verbatim}\n",
    "\\end{tcolorbox}\n",
    "((*- endmacro *))\n",
    "((*- endif -*))\n",
    "                         \n",
    "% \\begin{Verbatim}[commandchars=\\\\\\{\\}, fontfamily=sf]\n",
    "                                                \n",
    "% style_prompt:\n",
    "%    \\newcommand{\\prompt}[4]{\n",
    "%        {\\sffamily\\llap{{\\color{#2}[#3] :\\hspace{3pt}#4}}\\vspace{-\\baselineskip}}\n",
    "%    }"
   ]
  },
  {
   "cell_type": "code",
   "execution_count": null,
   "metadata": {
    "tags": [
     "hide_input",
     "hide_output"
    ]
   },
   "outputs": [],
   "source": [
    "!jupyter nbconvert --to pdf 'CV.ipynb' --template='CV.tplx' --LatexPreprocessor.style=\"cv\""
   ]
  },
  {
   "cell_type": "code",
   "execution_count": null,
   "metadata": {},
   "outputs": [],
   "source": []
  }
 ],
 "metadata": {
  "celltoolbar": "Tags",
  "kernelspec": {
   "display_name": "Python 3",
   "language": "python",
   "name": "python3"
  },
  "language_info": {
   "codemirror_mode": {
    "name": "ipython",
    "version": 3
   },
   "file_extension": ".py",
   "mimetype": "text/x-python",
   "name": "python",
   "nbconvert_exporter": "python",
   "pygments_lexer": "ipython3",
   "version": "3.7.4"
  }
 },
 "nbformat": 4,
 "nbformat_minor": 4
}
