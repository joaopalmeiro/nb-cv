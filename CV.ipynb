{
 "cells": [
  {
   "cell_type": "markdown",
   "metadata": {},
   "source": [
    "# João Palmeiro\n",
    "## Research Intern\n",
    "\n",
    "Behance\n",
    "Cenas \n",
    "1 2 3\n",
    "\n",
    "`HOT`\n",
    "\n",
    "_Teste_"
   ]
  },
  {
   "cell_type": "code",
   "execution_count": 43,
   "metadata": {
    "tags": [
     "show_input",
     "show_output"
    ]
   },
   "outputs": [
    {
     "data": {
      "text/plain": [
       "2"
      ]
     },
     "execution_count": 43,
     "metadata": {},
     "output_type": "execute_result"
    }
   ],
   "source": [
    "1+1 # comment"
   ]
  },
  {
   "cell_type": "code",
   "execution_count": 74,
   "metadata": {
    "tags": [
     "show_input",
     "show_output"
    ]
   },
   "outputs": [],
   "source": [
    "def get_test():\n",
    "    print(\"oi\")"
   ]
  },
  {
   "cell_type": "code",
   "execution_count": 75,
   "metadata": {
    "tags": [
     "show_output",
     "show_input"
    ]
   },
   "outputs": [
    {
     "name": "stdout",
     "output_type": "stream",
     "text": [
      "oi\n"
     ]
    }
   ],
   "source": [
    "get_test()"
   ]
  },
  {
   "cell_type": "code",
   "execution_count": 89,
   "metadata": {
    "tags": [
     "show_input",
     "show_output"
    ]
   },
   "outputs": [],
   "source": [
    "import pandas as pd\n",
    "\n",
    "d = {'col1': [1, 2], 'col2': [3, 4]}\n",
    "\n",
    "df = pd.DataFrame(data=d)\n",
    "\n",
    "df = df.style.hide_index()\n",
    "\n",
    "\n",
    "teste = \"\"\"\n",
    "| weekday   |   temperature |   precipitation |\n",
    "|:----------|--------------:|----------------:|\n",
    "| monday    |            20 |             100 |\n",
    "| thursday  |            30 |             200 |\n",
    "| wednesday |            25 |             150 |\n",
    "\"\"\""
   ]
  },
  {
   "cell_type": "code",
   "execution_count": 90,
   "metadata": {
    "tags": [
     "show_input",
     "show_output"
    ]
   },
   "outputs": [
    {
     "data": {
      "text/html": [
       "<style  type=\"text/css\" >\n",
       "</style><table id=\"T_47d6992a_5668_11ea_97ce_8c8590b3e3cf\" ><thead>    <tr>        <th class=\"col_heading level0 col0\" >col1</th>        <th class=\"col_heading level0 col1\" >col2</th>    </tr></thead><tbody>\n",
       "                <tr>\n",
       "                                <td id=\"T_47d6992a_5668_11ea_97ce_8c8590b3e3cfrow0_col0\" class=\"data row0 col0\" >1</td>\n",
       "                        <td id=\"T_47d6992a_5668_11ea_97ce_8c8590b3e3cfrow0_col1\" class=\"data row0 col1\" >3</td>\n",
       "            </tr>\n",
       "            <tr>\n",
       "                                <td id=\"T_47d6992a_5668_11ea_97ce_8c8590b3e3cfrow1_col0\" class=\"data row1 col0\" >2</td>\n",
       "                        <td id=\"T_47d6992a_5668_11ea_97ce_8c8590b3e3cfrow1_col1\" class=\"data row1 col1\" >4</td>\n",
       "            </tr>\n",
       "    </tbody></table>"
      ],
      "text/plain": [
       "<pandas.io.formats.style.Styler at 0x12317c310>"
      ]
     },
     "execution_count": 90,
     "metadata": {},
     "output_type": "execute_result"
    }
   ],
   "source": [
    "df"
   ]
  },
  {
   "cell_type": "code",
   "execution_count": 94,
   "metadata": {
    "tags": [
     "hide_input",
     "hide_output"
    ]
   },
   "outputs": [
    {
     "name": "stdout",
     "output_type": "stream",
     "text": [
      "Overwriting CV.tplx\n"
     ]
    }
   ],
   "source": [
    "%%writefile CV.tplx\n",
    "\n",
    "((* extends 'article.tplx' *))\n",
    "\n",
    "((* block commands *))\n",
    "\\setcounter{secnumdepth}{0}\n",
    "((( super() )))\n",
    "((* endblock commands *))\n",
    "\n",
    "((* block definitions *))\n",
    "((( super() )))\n",
    "((* block repygments *))\n",
    "    %Reconfigured pygments\n",
    "    \\makeatletter\n",
    "    \\expandafter\\def\\csname PY@tok@mi\\endcsname{\\def\\PY@tc##1{\\textcolor[HTML]{2f2f2f}{##1}}} % numbers\n",
    "    \\expandafter\\def\\csname PY@tok@c1\\endcsname{\\let\\PY@it=\\textit\\def\\PY@tc##1{\\textcolor[HTML]{2f2f2f}{##1}}} % comments\n",
    "    \\expandafter\\def\\csname PY@tok@o\\endcsname{\\def\\PY@tc##1{\\textcolor[HTML]{2f2f2f}{##1}}} % operators\n",
    "    \\makeatother\n",
    "((* endblock repygments *))\n",
    "((* endblock definitions *))\n",
    "    \n",
    "((* block packages *))\n",
    "((( super() )))\n",
    "\\usepackage[sfdefault, light]{roboto}\n",
    "\n",
    "% Source: https://tex.stackexchange.com/questions/113338/use-sans-serif-in-a-verbatim-environment\n",
    "\\makeatletter\n",
    "\\begingroup\n",
    "\\catcode`\\`=\\active\n",
    "\\gdef\\FV@fontfamily@sf{%\n",
    "  \\def\\FV@FontScanPrep{\\FV@MakeActive\\`}%\n",
    "  \\def\\FV@FontFamily{\\sffamily\\edef`{{\\string`}}}}\n",
    "\\endgroup\n",
    "\\makeatother\n",
    "((* endblock packages *))\n",
    "\n",
    "((* block maketitle *))\n",
    "\\pagestyle{empty}\n",
    "((* endblock maketitle *))\n",
    "\n",
    "((*- block margins -*))\n",
    "    \\geometry{verbose, tmargin=.7in, bmargin=.7in, lmargin=.7in, rmargin=.7in}\n",
    "((*- endblock margins -*))\n",
    "\n",
    "((*- block style_colors *))\n",
    "    \\definecolor{incolor}{HTML}{303F9F}\n",
    "    \\definecolor{outcolor}{HTML}{D84315}\n",
    "    \\definecolor{cellborder}{HTML}{CFCFCF}\n",
    "    \\definecolor{cellbackground}{HTML}{FFFFFF}\n",
    "((*- endblock style_colors *))\n",
    "\n",
    "((* block input_group *))\n",
    "((* if 'hide_input' in cell['metadata'].get('tags', []) *))\n",
    "((* elif 'show_input' in cell['metadata'].get('tags', []) *))\n",
    "    ((( super() )))\n",
    "((* endif *))\n",
    "((* endblock input_group *))\n",
    "\n",
    "((* block output_group *))\n",
    "((* if 'hide_output' in cell['metadata'].get('tags', []) *))\n",
    "((* elif 'show_output' in cell['metadata'].get('tags', []) *))\n",
    "    ((( super() )))\n",
    "((* endif *))\n",
    "((* endblock output_group *))\n",
    "\n",
    "((*- block style_prompt *))\n",
    "    \\newcommand{\\prompt}[4]{\n",
    "        {\\sffamily\\llap{{\\color{#2}[#3] :\\hspace{3pt}#4}}\\vspace{-\\baselineskip}}\n",
    "    }\n",
    "((* endblock style_prompt *))\n",
    "                         \n",
    "((*- if draw_cell is not defined -*)) % Required to allow overriding.\n",
    "((* macro draw_cell(text, cell, prompt, prompt_color, extra_space) -*))\n",
    "((*- if prompt == 'In' -*))\n",
    "((*- set style = \"breakable, size=fbox, boxrule=.5pt, pad at break*=1mm, colback=cellbackground, colframe=cellborder\"-*))\n",
    "((*- else -*))((*- set style = \"breakable, size=fbox, boxrule=.5pt, pad at break*=1mm, opacityfill=0\"-*))((*-  endif -*))\n",
    "\n",
    "\\begin{tcolorbox}[((( style )))]\n",
    "(((- draw_prompt(cell, prompt, prompt_color, extra_space) )))\n",
    "\\begin{Verbatim}[commandchars=\\\\\\{\\}, fontfamily=sf]\n",
    "((( text )))\n",
    "\\end{Verbatim}\n",
    "\\end{tcolorbox}\n",
    "((*- endmacro *))\n",
    "((*- endif -*))"
   ]
  },
  {
   "cell_type": "code",
   "execution_count": 95,
   "metadata": {
    "tags": [
     "hide_input",
     "hide_output"
    ]
   },
   "outputs": [
    {
     "name": "stdout",
     "output_type": "stream",
     "text": [
      "[NbConvertApp] Converting notebook CV.ipynb to pdf\n",
      "[NbConvertApp] Writing 24843 bytes to ./notebook.tex\n",
      "[NbConvertApp] Building PDF\n",
      "[NbConvertApp] Running xelatex 3 times: ['xelatex', './notebook.tex', '-quiet']\n",
      "[NbConvertApp] Running bibtex 1 time: ['bibtex', './notebook']\n",
      "[NbConvertApp] WARNING | bibtex had problems, most likely because there were no citations\n",
      "[NbConvertApp] PDF successfully created\n",
      "[NbConvertApp] Writing 18424 bytes to CV.pdf\n"
     ]
    }
   ],
   "source": [
    "!jupyter nbconvert --to pdf 'CV.ipynb' --template='CV.tplx'"
   ]
  },
  {
   "cell_type": "code",
   "execution_count": null,
   "metadata": {},
   "outputs": [],
   "source": []
  },
  {
   "cell_type": "code",
   "execution_count": null,
   "metadata": {},
   "outputs": [],
   "source": []
  }
 ],
 "metadata": {
  "celltoolbar": "Tags",
  "kernelspec": {
   "display_name": "Python 3",
   "language": "python",
   "name": "python3"
  },
  "language_info": {
   "codemirror_mode": {
    "name": "ipython",
    "version": 3
   },
   "file_extension": ".py",
   "mimetype": "text/x-python",
   "name": "python",
   "nbconvert_exporter": "python",
   "pygments_lexer": "ipython3",
   "version": "3.7.4"
  }
 },
 "nbformat": 4,
 "nbformat_minor": 4
}
